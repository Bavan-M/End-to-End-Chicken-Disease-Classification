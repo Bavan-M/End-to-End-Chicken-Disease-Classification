{
 "cells": [
  {
   "cell_type": "code",
   "execution_count": 1,
   "id": "90ffcb10",
   "metadata": {},
   "outputs": [
    {
     "name": "stdout",
     "output_type": "stream",
     "text": [
      "Current directory: C:\\Users\\user\\Python Programs\\Resume Projects\\End-to-End-Chicken-Disease-Classification\n"
     ]
    }
   ],
   "source": [
    "import os\n",
    "os.chdir(r\"C:\\Users\\user\\Python Programs\\Resume Projects\\End-to-End-Chicken-Disease-Classification\")\n",
    "print(\"Current directory:\", os.getcwd())"
   ]
  },
  {
   "cell_type": "code",
   "execution_count": 4,
   "id": "5473b6a6",
   "metadata": {},
   "outputs": [
    {
     "data": {
      "text/html": [
       "<pre style=\"white-space:pre;overflow-x:auto;line-height:normal;font-family:Menlo,'DejaVu Sans Mono',consolas,'Courier New',monospace\">                                       <span style=\"font-weight: bold\">❗❗❗ AUTHORIZATION REQUIRED ❗❗❗</span>                                        \n",
       "</pre>\n"
      ],
      "text/plain": [
       "                                       \u001b[1m❗❗❗ AUTHORIZATION REQUIRED ❗❗❗\u001b[0m                                        \n"
      ]
     },
     "metadata": {},
     "output_type": "display_data"
    },
    {
     "data": {
      "text/html": [
       "<pre style=\"white-space:pre;overflow-x:auto;line-height:normal;font-family:Menlo,'DejaVu Sans Mono',consolas,'Courier New',monospace\">c:\\Users\\user\\Python Programs\\Resume \n",
       "Projects\\End-to-End-Chicken-Disease-Classification\\cnnProject\\lib\\site-packages\\rich\\live.py:231: UserWarning: \n",
       "install \"ipywidgets\" for Jupyter support\n",
       "  warnings.warn('install \"ipywidgets\" for Jupyter support')\n",
       "</pre>\n"
      ],
      "text/plain": [
       "c:\\Users\\user\\Python Programs\\Resume \n",
       "Projects\\End-to-End-Chicken-Disease-Classification\\cnnProject\\lib\\site-packages\\rich\\live.py:231: UserWarning: \n",
       "install \"ipywidgets\" for Jupyter support\n",
       "  warnings.warn('install \"ipywidgets\" for Jupyter support')\n"
      ]
     },
     "metadata": {},
     "output_type": "display_data"
    },
    {
     "name": "stdout",
     "output_type": "stream",
     "text": [
      "\n",
      "\n",
      "Open the following link in your browser to authorize the client:\n",
      "https://dagshub.com/login/oauth/authorize?state=d2982dba-ab02-493d-b2e0-c094015ce8c3&client_id=32b60ba385aa7cecf24046d8195a71c07dd345d9657977863b52e7748e0f0f28&middleman_request_id=ee6c2511ce81382f92ece07bc83df56ba3415bf897470b486dcca29116920219\n",
      "\n",
      "\n"
     ]
    },
    {
     "data": {
      "text/html": [
       "<pre style=\"white-space:pre;overflow-x:auto;line-height:normal;font-family:Menlo,'DejaVu Sans Mono',consolas,'Courier New',monospace\"></pre>\n"
      ],
      "text/plain": []
     },
     "metadata": {},
     "output_type": "display_data"
    },
    {
     "data": {
      "text/html": [
       "<pre style=\"white-space:pre;overflow-x:auto;line-height:normal;font-family:Menlo,'DejaVu Sans Mono',consolas,'Courier New',monospace\">Accessing as bavanreddy1999\n",
       "</pre>\n"
      ],
      "text/plain": [
       "Accessing as bavanreddy1999\n"
      ]
     },
     "metadata": {},
     "output_type": "display_data"
    },
    {
     "data": {
      "text/html": [
       "<pre style=\"white-space:pre;overflow-x:auto;line-height:normal;font-family:Menlo,'DejaVu Sans Mono',consolas,'Courier New',monospace\">Initialized MLflow to track repo <span style=\"color: #008000; text-decoration-color: #008000\">\"bavanreddy1999/End-to-End-Chicken-Disease-Classification\"</span>\n",
       "</pre>\n"
      ],
      "text/plain": [
       "Initialized MLflow to track repo \u001b[32m\"bavanreddy1999/End-to-End-Chicken-Disease-Classification\"\u001b[0m\n"
      ]
     },
     "metadata": {},
     "output_type": "display_data"
    },
    {
     "data": {
      "text/html": [
       "<pre style=\"white-space:pre;overflow-x:auto;line-height:normal;font-family:Menlo,'DejaVu Sans Mono',consolas,'Courier New',monospace\">Repository bavanreddy1999/End-to-End-Chicken-Disease-Classification initialized!\n",
       "</pre>\n"
      ],
      "text/plain": [
       "Repository bavanreddy1999/End-to-End-Chicken-Disease-Classification initialized!\n"
      ]
     },
     "metadata": {},
     "output_type": "display_data"
    }
   ],
   "source": [
    "import dagshub\n",
    "dagshub.init(repo_owner='bavanreddy1999', repo_name='End-to-End-Chicken-Disease-Classification', mlflow=True)"
   ]
  },
  {
   "cell_type": "code",
   "execution_count": 8,
   "id": "dc8b04bb",
   "metadata": {},
   "outputs": [],
   "source": [
    "from dataclasses import dataclass\n",
    "from pathlib import Path\n",
    "\n",
    "@dataclass(frozen=True)\n",
    "class EvaluationConfig:\n",
    "    path_to_model:Path\n",
    "    training_data:Path\n",
    "    all_params:dict\n",
    "    mlflow_uri: str\n",
    "    params_image_size: list\n",
    "    params_batch_size: int"
   ]
  },
  {
   "cell_type": "code",
   "execution_count": 7,
   "id": "38d00624",
   "metadata": {},
   "outputs": [],
   "source": [
    "from cnnProject.constants import CONFIG_FILE_PATH,PARAMS_FILE_PATH\n",
    "from cnnProject.utils.common import readYamlFile,createDirectories"
   ]
  },
  {
   "cell_type": "code",
   "execution_count": 9,
   "id": "d209dcc8",
   "metadata": {},
   "outputs": [],
   "source": [
    "class ConfigurationManager:\n",
    "    def __init__(self,\n",
    "                 config_file_path=CONFIG_FILE_PATH,\n",
    "                 params_file_path=PARAMS_FILE_PATH):\n",
    "        self.config=readYamlFile(config_file_path)\n",
    "        self.params=readYamlFile(params_file_path)\n",
    "        createDirectories([self.config.artifacts_root])\n",
    "\n",
    "    def evaluation_config(self)-> EvaluationConfig:\n",
    "        eval_config=EvaluationConfig(\n",
    "            path_to_model='artifacts/training/model.h5',\n",
    "            training_data='artifacts/data_ingestion/Chicken-fecal-images',\n",
    "            mlflow_uri=\"https://dagshub.com/bavanreddy1999/End-to-End-Chicken-Disease-Classification.mlflow\",\n",
    "            all_params=self.params,\n",
    "            params_image_size=self.params.IMAGE_SIZE,\n",
    "            params_batch_size=self.params.BATCH_SIZE\n",
    "            )\n",
    "        return eval_config"
   ]
  },
  {
   "cell_type": "code",
   "execution_count": null,
   "id": "0e49149d",
   "metadata": {},
   "outputs": [],
   "source": [
    "import tensorflow as tf\n",
    "import mlflow\n",
    "import mlflow.keras\n",
    "from urllib.parse import urlparse\n",
    "from cnnProject.utils.common import saveJSON"
   ]
  },
  {
   "cell_type": "code",
   "execution_count": 11,
   "id": "9c15b3de",
   "metadata": {},
   "outputs": [],
   "source": [
    "model=tf.keras.models.load_model(\"artifacts/training/model.h5\")"
   ]
  },
  {
   "cell_type": "code",
   "execution_count": 16,
   "id": "15e826b3",
   "metadata": {},
   "outputs": [],
   "source": [
    "class Evaluation:\n",
    "    def __init__(self,config:EvaluationConfig):\n",
    "        self.config=config\n",
    "\n",
    "    def _valid_generator(self):\n",
    "        datagenerators_kwargs=dict(rescale=1./255,validation_split=0.30)\n",
    "        dataflow_kwargs=dict(target_size=self.config.params_image_size[:-1],\n",
    "                             batch_size=self.config.params_batch_size,\n",
    "                             interpolation=\"bilinear\")\n",
    "        \n",
    "        valid_datagenerator=tf.keras.preprocessing.image.ImageDataGenerator(**datagenerators_kwargs)\n",
    "\n",
    "        self.valid_generator=valid_datagenerator.flow_from_directory(directory=self.config.training_data,subset=\"validation\",shuffle=False,**dataflow_kwargs)\n",
    "\n",
    "    @staticmethod\n",
    "    def load_model(path:Path)-> tf.keras.Model:\n",
    "        return tf.keras.models.load_model(path)\n",
    "    \n",
    "    def evaluation(self):\n",
    "        self.model=self.load_model(self.config.path_to_model)\n",
    "        self._valid_generator()\n",
    "        self.score=model.evaluate(self.valid_generator)\n",
    "    \n",
    "    def save_score(self):\n",
    "        scores={\"loss\":self.score[0],\"accuracy\":self.score[1]}\n",
    "        saveJSON(path=Path(\"scores.json\"),data=scores)\n",
    "\n",
    "    def log_into_mlfow(self):\n",
    "        mlflow.set_registry_uri(uri=self.config.mlflow_uri)\n",
    "        tracking_uri_type_store=urlparse(mlflow.get_tracking_uri()).scheme\n",
    "\n",
    "        with mlflow.start_run():\n",
    "            mlflow.log_params(self.config.all_params)\n",
    "            mlflow.log_metrics({\"loss\":self.score[0],\"accuracy\":self.score[1]})\n",
    "\n",
    "            if tracking_uri_type_store!=\"file\":\n",
    "                mlflow.keras.log_model(self.model,\"model\",registered_model_name=\"VGG16Model\")\n",
    "            else:\n",
    "                mlflow.keras.log_model(self.model,\"model\")"
   ]
  },
  {
   "cell_type": "code",
   "execution_count": 17,
   "id": "7b51e7b7",
   "metadata": {},
   "outputs": [
    {
     "name": "stdout",
     "output_type": "stream",
     "text": [
      "[2025-06-29 18:49:22,808 : INFO : common : the yaml file form the path config\\config.yaml loaded Sucessfully]\n",
      "[2025-06-29 18:49:22,809 : INFO : common : the yaml file form the path params.yaml loaded Sucessfully]\n",
      "[2025-06-29 18:49:22,810 : INFO : common : Directories created Sucessfully at artifacts]\n",
      "Found 116 images belonging to 2 classes.\n",
      "8/8 [==============================] - 4s 438ms/step - loss: 0.3358 - accuracy: 0.9741\n"
     ]
    },
    {
     "name": "stderr",
     "output_type": "stream",
     "text": [
      "2025/06/29 18:49:27 WARNING mlflow.tensorflow: You are saving a TensorFlow Core model or Keras model without a signature. Inference with mlflow.pyfunc.spark_udf() will not work unless the model's pyfunc representation accepts pandas DataFrames as inference inputs.\n"
     ]
    },
    {
     "name": "stdout",
     "output_type": "stream",
     "text": [
      "[2025-06-29 18:49:28,463 : WARNING : save : Found untraced functions such as _jit_compiled_convolution_op, _jit_compiled_convolution_op, _jit_compiled_convolution_op, _jit_compiled_convolution_op, _jit_compiled_convolution_op while saving (showing 5 of 14). These functions will not be directly callable after loading.]\n",
      "[2025-06-29 18:49:28,845 : INFO : builder_impl : Assets written to: C:\\Users\\user\\AppData\\Local\\Temp\\tmp5gxwr2u4\\model\\data\\model\\assets]\n"
     ]
    },
    {
     "name": "stderr",
     "output_type": "stream",
     "text": [
      "Successfully registered model 'VGG16Model'.\n",
      "2025/06/29 18:50:03 INFO mlflow.tracking._model_registry.client: Waiting up to 300 seconds for model version to finish creation.                     Model name: VGG16Model, version 1\n",
      "Created version '1' of model 'VGG16Model'.\n"
     ]
    }
   ],
   "source": [
    "try:\n",
    "    config=ConfigurationManager()\n",
    "    eval_config=config.evaluation_config()\n",
    "    evaluation=Evaluation(config=eval_config)\n",
    "    evaluation.evaluation()\n",
    "    evaluation.log_into_mlfow()\n",
    "except Exception as e:\n",
    "    raise e"
   ]
  },
  {
   "cell_type": "code",
   "execution_count": null,
   "id": "accc69b2",
   "metadata": {},
   "outputs": [],
   "source": []
  }
 ],
 "metadata": {
  "kernelspec": {
   "display_name": "cnnProject",
   "language": "python",
   "name": "python3"
  },
  "language_info": {
   "codemirror_mode": {
    "name": "ipython",
    "version": 3
   },
   "file_extension": ".py",
   "mimetype": "text/x-python",
   "name": "python",
   "nbconvert_exporter": "python",
   "pygments_lexer": "ipython3",
   "version": "3.8.0"
  }
 },
 "nbformat": 4,
 "nbformat_minor": 5
}
