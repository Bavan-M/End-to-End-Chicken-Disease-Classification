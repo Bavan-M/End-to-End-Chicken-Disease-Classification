{
 "cells": [
  {
   "cell_type": "code",
   "execution_count": 1,
   "id": "53e7bdb9",
   "metadata": {},
   "outputs": [
    {
     "name": "stdout",
     "output_type": "stream",
     "text": [
      "Current directory: C:\\Users\\user\\Python Programs\\Resume Projects\\End-to-End-Chicken-Disease-Classification\n"
     ]
    }
   ],
   "source": [
    "import os\n",
    "os.chdir(r\"C:\\Users\\user\\Python Programs\\Resume Projects\\End-to-End-Chicken-Disease-Classification\")\n",
    "print(\"Current directory:\", os.getcwd())"
   ]
  },
  {
   "cell_type": "code",
   "execution_count": 2,
   "id": "286a3225",
   "metadata": {},
   "outputs": [],
   "source": [
    "from dataclasses import dataclass\n",
    "from pathlib import Path"
   ]
  },
  {
   "cell_type": "code",
   "execution_count": 3,
   "id": "4ac4fa3e",
   "metadata": {},
   "outputs": [],
   "source": [
    "@dataclass(frozen=True)\n",
    "class PrepareBaseModelConfig:\n",
    "    root_dir:Path\n",
    "    base_model_path: Path\n",
    "    updated_base_model_path: Path\n",
    "    params_image_size:list\n",
    "    params_learning_rate:float\n",
    "    params_include_top:bool\n",
    "    params_weight: str\n",
    "    params_classes:int"
   ]
  },
  {
   "cell_type": "code",
   "execution_count": 4,
   "id": "82210e91",
   "metadata": {},
   "outputs": [],
   "source": [
    "from cnnProject.constants import CONFIG_FILE_PATH,PARAMS_FILE_PATH\n",
    "from cnnProject.utils.common import readYamlFile,createDirectories"
   ]
  },
  {
   "cell_type": "code",
   "execution_count": 5,
   "id": "3ee7e63e",
   "metadata": {},
   "outputs": [],
   "source": [
    "class ConfigurationManager:\n",
    "    def __init__(self,\n",
    "                 config_file_path=CONFIG_FILE_PATH,\n",
    "                 params_file_path=PARAMS_FILE_PATH):\n",
    "        self.config=readYamlFile(config_file_path)\n",
    "        self.params=readYamlFile(params_file_path)\n",
    "        createDirectories([self.config.artifacts_root])\n",
    "\n",
    "    def get_prepare_base_model_config(self)->PrepareBaseModelConfig:\n",
    "        config=self.config.prepare_base_model\n",
    "        createDirectories([config.root_dir])\n",
    "\n",
    "        prepare_base_model_config=PrepareBaseModelConfig(\n",
    "            root_dir=Path(config.root_dir),\n",
    "            base_model_path=Path(config.base_model_path),\n",
    "            updated_base_model_path=Path(config.updated_base_model_path),\n",
    "            params_image_size=self.params.IMAGE_SIZE,\n",
    "            params_classes=self.params.CLASSES,\n",
    "            params_learning_rate=self.params.LEARNING_RATE,\n",
    "            params_include_top=self.params.INCLUDE_TOP,\n",
    "            params_weight=self.params.WEIGHTS\n",
    "        )\n",
    "\n",
    "        return prepare_base_model_config"
   ]
  },
  {
   "cell_type": "code",
   "execution_count": 24,
   "id": "bee59d6c",
   "metadata": {},
   "outputs": [],
   "source": [
    "import tensorflow as tf"
   ]
  },
  {
   "cell_type": "code",
   "execution_count": 25,
   "id": "0574a9b0",
   "metadata": {},
   "outputs": [],
   "source": [
    "class PrepareBaseModel:\n",
    "    def __init__(self,config:PrepareBaseModelConfig):\n",
    "        self.config=config\n",
    "    \n",
    "    def get_base_model(self):\n",
    "        self.model=tf.keras.applications.vgg16.VGG16(\n",
    "            input_shape=self.config.params_image_size,\n",
    "            weights=self.config.params_weight,\n",
    "            include_top=self.config.params_include_top\n",
    "        )\n",
    "        self.saveModel(path=self.config.base_model_path,model=self.model)\n",
    "    \n",
    "    @staticmethod\n",
    "    def _prepare_full_mode(model,classes,freeze_all,freeze_till,learning_rate):\n",
    "        if freeze_all:\n",
    "            for layer in model.layers:\n",
    "                model.trainable=False\n",
    "        elif(freeze_till is not None) and (freeze_till>0):\n",
    "            for layer in model.layers[:-freeze_till]:\n",
    "                model.trainable=False\n",
    "        \n",
    "        flatten_in=tf.keras.layers.Flatten()(model.output)\n",
    "        prediction=tf.keras.layers.Dense(units=classes,activation=\"softmax\")(flatten_in)\n",
    "        full_model=tf.keras.models.Model(inputs=model.input,outputs=prediction)\n",
    "\n",
    "        full_model.compile(optimizer=tf.keras.optimizers.SGD(learning_rate=learning_rate),loss=tf.keras.losses.CategoricalCrossentropy(),metrics=[\"accuracy\"])\n",
    "\n",
    "        full_model.summary()\n",
    "        return full_model\n",
    "    \n",
    "    def update_base_model(self):\n",
    "        self.full_model=self._prepare_full_mode(model=self.model,classes=self.config.params_classes,freeze_all=True,freeze_till=None,learning_rate=self.config.params_learning_rate)\n",
    "        self.saveModel(path=self.config.updated_base_model_path,model=self.full_model)\n",
    "\n",
    "\n",
    "    @staticmethod\n",
    "    def saveModel(path:Path,model=tf.keras.Model):\n",
    "        model.save(path)"
   ]
  },
  {
   "cell_type": "code",
   "execution_count": 26,
   "id": "0f87912d",
   "metadata": {},
   "outputs": [
    {
     "name": "stdout",
     "output_type": "stream",
     "text": [
      "[2025-06-28 20:48:00,023 : INFO : common : the yaml file form the path config\\config.yaml loaded Sucessfully]\n",
      "[2025-06-28 20:48:00,025 : INFO : common : the yaml file form the path params.yaml loaded Sucessfully]\n",
      "[2025-06-28 20:48:00,026 : INFO : common : Directories created Sucessfully at artifacts]\n",
      "[2025-06-28 20:48:00,027 : INFO : common : Directories created Sucessfully at artifacts/prepare_base_model]\n",
      "[2025-06-28 20:48:00,245 : WARNING : saving_utils : Compiled the loaded model, but the compiled metrics have yet to be built. `model.compile_metrics` will be empty until you train or evaluate the model.]\n",
      "Model: \"model_1\"\n",
      "_________________________________________________________________\n",
      " Layer (type)                Output Shape              Param #   \n",
      "=================================================================\n",
      " input_4 (InputLayer)        [(None, 224, 224, 3)]     0         \n",
      "                                                                 \n",
      " block1_conv1 (Conv2D)       (None, 224, 224, 64)      1792      \n",
      "                                                                 \n",
      " block1_conv2 (Conv2D)       (None, 224, 224, 64)      36928     \n",
      "                                                                 \n",
      " block1_pool (MaxPooling2D)  (None, 112, 112, 64)      0         \n",
      "                                                                 \n",
      " block2_conv1 (Conv2D)       (None, 112, 112, 128)     73856     \n",
      "                                                                 \n",
      " block2_conv2 (Conv2D)       (None, 112, 112, 128)     147584    \n",
      "                                                                 \n",
      " block2_pool (MaxPooling2D)  (None, 56, 56, 128)       0         \n",
      "                                                                 \n",
      " block3_conv1 (Conv2D)       (None, 56, 56, 256)       295168    \n",
      "                                                                 \n",
      " block3_conv2 (Conv2D)       (None, 56, 56, 256)       590080    \n",
      "                                                                 \n",
      " block3_conv3 (Conv2D)       (None, 56, 56, 256)       590080    \n",
      "                                                                 \n",
      " block3_pool (MaxPooling2D)  (None, 28, 28, 256)       0         \n",
      "                                                                 \n",
      " block4_conv1 (Conv2D)       (None, 28, 28, 512)       1180160   \n",
      "                                                                 \n",
      " block4_conv2 (Conv2D)       (None, 28, 28, 512)       2359808   \n",
      "                                                                 \n",
      " block4_conv3 (Conv2D)       (None, 28, 28, 512)       2359808   \n",
      "                                                                 \n",
      " block4_pool (MaxPooling2D)  (None, 14, 14, 512)       0         \n",
      "                                                                 \n",
      " block5_conv1 (Conv2D)       (None, 14, 14, 512)       2359808   \n",
      "                                                                 \n",
      " block5_conv2 (Conv2D)       (None, 14, 14, 512)       2359808   \n",
      "                                                                 \n",
      " block5_conv3 (Conv2D)       (None, 14, 14, 512)       2359808   \n",
      "                                                                 \n",
      " block5_pool (MaxPooling2D)  (None, 7, 7, 512)         0         \n",
      "                                                                 \n",
      " flatten_3 (Flatten)         (None, 25088)             0         \n",
      "                                                                 \n",
      " dense_3 (Dense)             (None, 2)                 50178     \n",
      "                                                                 \n",
      "=================================================================\n",
      "Total params: 14,764,866\n",
      "Trainable params: 50,178\n",
      "Non-trainable params: 14,714,688\n",
      "_________________________________________________________________\n"
     ]
    }
   ],
   "source": [
    "try:\n",
    "    config=ConfigurationManager()\n",
    "    prepare_base_model_config=config.get_prepare_base_model_config()\n",
    "    prepare_base_model=PrepareBaseModel(config=prepare_base_model_config)\n",
    "    prepare_base_model.get_base_model()\n",
    "    prepare_base_model.update_base_model()\n",
    "except Exception as e:\n",
    "    raise e\n"
   ]
  },
  {
   "cell_type": "code",
   "execution_count": null,
   "id": "79e1b7c1",
   "metadata": {},
   "outputs": [],
   "source": []
  }
 ],
 "metadata": {
  "kernelspec": {
   "display_name": "cnnProject",
   "language": "python",
   "name": "python3"
  },
  "language_info": {
   "codemirror_mode": {
    "name": "ipython",
    "version": 3
   },
   "file_extension": ".py",
   "mimetype": "text/x-python",
   "name": "python",
   "nbconvert_exporter": "python",
   "pygments_lexer": "ipython3",
   "version": "3.8.0"
  }
 },
 "nbformat": 4,
 "nbformat_minor": 5
}
