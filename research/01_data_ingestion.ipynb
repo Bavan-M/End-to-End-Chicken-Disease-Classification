{
 "cells": [
  {
   "cell_type": "code",
   "execution_count": 1,
   "id": "256aea81",
   "metadata": {},
   "outputs": [
    {
     "name": "stdout",
     "output_type": "stream",
     "text": [
      "Current directory: C:\\Users\\user\\Python Programs\\Resume Projects\\End-to-End-Chicken-Disease-Classification\n"
     ]
    }
   ],
   "source": [
    "import os\n",
    "os.chdir(r\"C:\\Users\\user\\Python Programs\\Resume Projects\\End-to-End-Chicken-Disease-Classification\")\n",
    "print(\"Current directory:\", os.getcwd())"
   ]
  },
  {
   "cell_type": "code",
   "execution_count": 2,
   "id": "45cf89de",
   "metadata": {},
   "outputs": [],
   "source": [
    "from dataclasses import dataclass\n",
    "from pathlib import Path"
   ]
  },
  {
   "cell_type": "code",
   "execution_count": 3,
   "id": "c6a10220",
   "metadata": {},
   "outputs": [],
   "source": [
    "@dataclass(frozen=True)\n",
    "class DataIngestionConfig:\n",
    "    root_dir:Path\n",
    "    source_URL:str\n",
    "    local_data_file:Path\n",
    "    unzip_dir:Path"
   ]
  },
  {
   "cell_type": "code",
   "execution_count": 4,
   "id": "706fd45a",
   "metadata": {},
   "outputs": [],
   "source": [
    "from cnnProject.constants import CONFIG_FILE_PATH,PARAMS_FILE_PATH\n",
    "from cnnProject.utils.common import readYamlFile,createDirectories"
   ]
  },
  {
   "cell_type": "code",
   "execution_count": 5,
   "id": "29190c1b",
   "metadata": {},
   "outputs": [],
   "source": [
    "class ConfigurationManager:\n",
    "    def __init__(self,\n",
    "                 config_file_path=CONFIG_FILE_PATH,\n",
    "                 params_file_path=PARAMS_FILE_PATH):\n",
    "        self.config=readYamlFile(config_file_path)\n",
    "        self.params=readYamlFile(PARAMS_FILE_PATH)\n",
    "        createDirectories([self.config.artifacts_root])\n",
    "\n",
    "    def get_data_ingestion_config(self)-> DataIngestionConfig:\n",
    "        config=self.config.data_ingestion\n",
    "        createDirectories([config.root_dir])\n",
    "        data_ingestion_config=DataIngestionConfig(\n",
    "            root_dir=config.root_dir,\n",
    "            source_URL=config.source_URL,\n",
    "            local_data_file=config.local_data_file,\n",
    "            unzip_dir=config.unzip_dir\n",
    "        )\n",
    "        return data_ingestion_config"
   ]
  },
  {
   "cell_type": "code",
   "execution_count": 8,
   "id": "a38bc7a1",
   "metadata": {},
   "outputs": [],
   "source": [
    "import urllib.request as request \n",
    "from cnnProject import logger\n",
    "from cnnProject.utils.common import getSize\n",
    "import zipfile"
   ]
  },
  {
   "cell_type": "code",
   "execution_count": 9,
   "id": "632e7d18",
   "metadata": {},
   "outputs": [],
   "source": [
    "class DataIngestion:\n",
    "    def __init__(self,config:DataIngestionConfig):\n",
    "        self.config=config\n",
    "    \n",
    "    def download_file(self):\n",
    "        if not os.path.exists(self.config.local_data_file):\n",
    "             filename,headers=request.urlretrieve(url=self.config.source_URL,filename=self.config.local_data_file)\n",
    "             logger.info(f\"{filename} downloaded Sucessfully with the  {headers} info\")\n",
    "\n",
    "        else:\n",
    "            logger.info(f\"file already exists of size {getSize(Path(self.config.local_data_file))}\")\n",
    "    \n",
    "    def extract_zip_file(self):\n",
    "        unzip_path=self.config.unzip_dir\n",
    "        os.makedirs(name=unzip_path,exist_ok=True)\n",
    "        with zipfile.ZipFile(file=self.config.local_data_file,mode='r') as zip_ref:\n",
    "            zip_ref.extractall(unzip_path)\n"
   ]
  },
  {
   "cell_type": "code",
   "execution_count": 10,
   "id": "7c2de846",
   "metadata": {},
   "outputs": [
    {
     "name": "stdout",
     "output_type": "stream",
     "text": [
      "[2025-06-28 18:09:30,951 : INFO : common : the yaml file form the path config\\config.yaml loaded Sucessfully]\n",
      "[2025-06-28 18:09:30,957 : INFO : common : the yaml file form the path params.yaml loaded Sucessfully]\n",
      "[2025-06-28 18:09:30,959 : INFO : common : Directories created Sucessfully at artifacts]\n",
      "[2025-06-28 18:09:30,960 : INFO : common : Directories created Sucessfully at artifacts/data_ingestion]\n",
      "[2025-06-28 18:09:35,344 : INFO : 1491931832 : artifacts/data_ingestion/data.zip downloaded Sucessfully with the  Connection: close\n",
      "Content-Length: 11616915\n",
      "Cache-Control: max-age=300\n",
      "Content-Security-Policy: default-src 'none'; style-src 'unsafe-inline'; sandbox\n",
      "Content-Type: application/zip\n",
      "ETag: \"adf745abc03891fe493c3be264ec012691fe3fa21d861f35a27edbe6d86a76b1\"\n",
      "Strict-Transport-Security: max-age=31536000\n",
      "X-Content-Type-Options: nosniff\n",
      "X-Frame-Options: deny\n",
      "X-XSS-Protection: 1; mode=block\n",
      "X-GitHub-Request-Id: 4250:30DE2A:8EA1B:1A0AA3:685FE283\n",
      "Accept-Ranges: bytes\n",
      "Date: Sat, 28 Jun 2025 12:39:33 GMT\n",
      "Via: 1.1 varnish\n",
      "X-Served-By: cache-maa10246-MAA\n",
      "X-Cache: MISS\n",
      "X-Cache-Hits: 0\n",
      "X-Timer: S1751114373.071424,VS0,VE893\n",
      "Vary: Authorization,Accept-Encoding\n",
      "Access-Control-Allow-Origin: *\n",
      "Cross-Origin-Resource-Policy: cross-origin\n",
      "X-Fastly-Request-ID: b5adda44a4e7fc56ffc3cacebc556b43c37e119e\n",
      "Expires: Sat, 28 Jun 2025 12:44:33 GMT\n",
      "Source-Age: 1\n",
      "\n",
      " info]\n"
     ]
    }
   ],
   "source": [
    "try:\n",
    "    config=ConfigurationManager()\n",
    "    data_ingestion_config=config.get_data_ingestion_config()\n",
    "    data_ingestion=DataIngestion(config=data_ingestion_config)\n",
    "    data_ingestion.download_file()\n",
    "    data_ingestion.extract_zip_file()\n",
    "except Exception as e:\n",
    "    raise e"
   ]
  },
  {
   "cell_type": "code",
   "execution_count": null,
   "id": "c4e25787",
   "metadata": {},
   "outputs": [],
   "source": []
  }
 ],
 "metadata": {
  "kernelspec": {
   "display_name": "cnnProject",
   "language": "python",
   "name": "python3"
  },
  "language_info": {
   "codemirror_mode": {
    "name": "ipython",
    "version": 3
   },
   "file_extension": ".py",
   "mimetype": "text/x-python",
   "name": "python",
   "nbconvert_exporter": "python",
   "pygments_lexer": "ipython3",
   "version": "3.8.0"
  }
 },
 "nbformat": 4,
 "nbformat_minor": 5
}
